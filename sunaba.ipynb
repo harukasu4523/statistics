{
 "cells": [
  {
   "cell_type": "code",
   "execution_count": 1,
   "id": "32084fdf-a67d-411e-9f3b-f16f99b9eb27",
   "metadata": {},
   "outputs": [],
   "source": [
    "import numpy as np\n",
    "import seaborn as sns\n",
    "from scipy import stats\n",
    "import matplotlib.pyplot as plt\n",
    "%matplotlib inline\n",
    "import pandas as pd"
   ]
  },
  {
   "cell_type": "markdown",
   "id": "1ae8ac0a-98fc-48da-b981-f02ff2c34949",
   "metadata": {},
   "source": [
    "## χ^2の計算を任意の数でやる"
   ]
  },
  {
   "cell_type": "markdown",
   "id": "c78ad8d9-ce59-4bbf-8a92-6aea12b60078",
   "metadata": {},
   "source": [
    "期待度数の計算(縦計 * 横計 / 全体計)"
   ]
  },
  {
   "cell_type": "code",
   "execution_count": 2,
   "id": "95e7749f-51a1-463d-9963-ebf13fb0c2d1",
   "metadata": {},
   "outputs": [
    {
     "data": {
      "text/plain": [
       "29.545454545454547"
      ]
     },
     "execution_count": 2,
     "metadata": {},
     "output_type": "execute_result"
    }
   ],
   "source": [
    "65 * 50 / 110"
   ]
  },
  {
   "cell_type": "code",
   "execution_count": 3,
   "id": "ac937026-ed2b-4de2-8f90-0063858d552e",
   "metadata": {},
   "outputs": [
    {
     "data": {
      "text/plain": [
       "35.45454545454545"
      ]
     },
     "execution_count": 3,
     "metadata": {},
     "output_type": "execute_result"
    }
   ],
   "source": [
    "65 * 60 / 110"
   ]
  },
  {
   "cell_type": "code",
   "execution_count": 4,
   "id": "34ff38f7-ea0e-49c6-98cd-15559b1085d4",
   "metadata": {},
   "outputs": [
    {
     "data": {
      "text/plain": [
       "20.454545454545453"
      ]
     },
     "execution_count": 4,
     "metadata": {},
     "output_type": "execute_result"
    }
   ],
   "source": [
    "45 * 50 / 110"
   ]
  },
  {
   "cell_type": "code",
   "execution_count": 5,
   "id": "e701f313-ce82-4c87-8cdf-29c475cc8327",
   "metadata": {},
   "outputs": [
    {
     "data": {
      "text/plain": [
       "24.545454545454547"
      ]
     },
     "execution_count": 5,
     "metadata": {},
     "output_type": "execute_result"
    }
   ],
   "source": [
    "45 * 60 / 110"
   ]
  },
  {
   "cell_type": "markdown",
   "id": "b6adb6fd-a4a9-4e5c-86b0-452ed39cfb50",
   "metadata": {},
   "source": [
    "### 任意の数のカテゴリ変数を持つデータフレームを作ろうとしたやつ"
   ]
  },
  {
   "cell_type": "code",
   "execution_count": 21,
   "id": "955f3f06-993f-4008-afec-3fbed7d7ce76",
   "metadata": {},
   "outputs": [
    {
     "name": "stdout",
     "output_type": "stream",
     "text": [
      "    性別 好きな科目\n",
      "0   男性    歴史\n",
      "1   女性    英語\n",
      "2   男性    英語\n",
      "3   男性    英語\n",
      "4   男性    英語\n",
      "..  ..   ...\n",
      "95  女性    数学\n",
      "96  女性    英語\n",
      "97  女性    数学\n",
      "98  女性    数学\n",
      "99  男性    英語\n",
      "\n",
      "[100 rows x 2 columns]\n"
     ]
    }
   ],
   "source": [
    "# データを生成する\n",
    "np.random.seed(42)  # 任意のシード値を設定（結果の再現性のため）\n",
    "n_samples = 100  # サンプル数を設定\n",
    "\n",
    "# カテゴリ変数を任意の度数で生成\n",
    "gender = np.random.choice(['男性', '女性'], n_samples)\n",
    "favorite_subject = np.random.choice(['数学', '英語', '歴史'], n_samples)\n",
    "\n",
    "# データフレームを作成\n",
    "df = pd.DataFrame({'性別': gender, '好きな科目': favorite_subject})\n",
    "\n",
    "print(df)  # 最初の5行を表示"
   ]
  },
  {
   "cell_type": "code",
   "execution_count": 22,
   "id": "c132f6a4-39ad-4c0b-926a-4aaf4ce00089",
   "metadata": {},
   "outputs": [
    {
     "name": "stdout",
     "output_type": "stream",
     "text": [
      "       Column_0      Column_1      Column_2      Column_3\n",
      "0  Category_0_3  Category_1_3  Category_2_1  Category_3_3\n",
      "1  Category_0_1  Category_1_3  Category_2_2  Category_3_1\n",
      "2  Category_0_3  Category_1_3  Category_2_1  Category_3_1\n",
      "3  Category_0_3  Category_1_1  Category_2_2  Category_3_1\n",
      "4  Category_0_1  Category_1_3  Category_2_2  Category_3_1\n"
     ]
    }
   ],
   "source": [
    "np.random.seed(42)  # 任意のシード値を設定（結果の再現性のため）\n",
    "n_samples = 100  # サンプル数を設定\n",
    "n_columns = 4  # カラム数を設定\n",
    "\n",
    "# カテゴリ変数を任意の度数で生成\n",
    "column_data = []\n",
    "column_names = []\n",
    "\n",
    "for i in range(n_columns):\n",
    "    categories = [f\"Category_{i}_{j}\" for j in range(1, 4)]  # 3つのカテゴリを持つと仮定\n",
    "    data = np.random.choice(categories, n_samples)\n",
    "    column_data.append(data)\n",
    "    column_names.append(f\"Column_{i}\")\n",
    "\n",
    "# データフレームを作成\n",
    "df = pd.DataFrame(dict(zip(column_names, column_data)))\n",
    "\n",
    "print(df.head())  # 最初の5行を表示"
   ]
  },
  {
   "cell_type": "markdown",
   "id": "91128845-6b30-47b7-bd90-568bb24117bc",
   "metadata": {},
   "source": [
    "### カテゴリ変数と度数を任意の数作るデータフレームの作り方"
   ]
  },
  {
   "cell_type": "code",
   "execution_count": 28,
   "id": "211d9080-7a74-4fb7-83a7-ceee2ce2cb43",
   "metadata": {},
   "outputs": [],
   "source": [
    "np.random.seed(42)\n",
    "\n",
    "#各カテゴリ変数の度数を設定\n",
    "column_counts = {\n",
    "    '好きな科目': {\n",
    "        '英語':20,\n",
    "        '数学':30\n",
    "    },\n",
    "    '性別':{\n",
    "        '男性':40,\n",
    "        '女性':20\n",
    "    }\n",
    "}\n",
    "\n",
    "# カラムごとにデータを生成し、データフレームを作成\n",
    "data_frames = []\n",
    "for column, categories in column_counts.items():\n",
    "    data = []\n",
    "    for category, count in categories.items():\n",
    "        data.extend([category] * count)\n",
    "    \n",
    "    np.random.shuffle(data)\n",
    "    df = pd.DataFrame(data, columns = [column])\n",
    "    data_frames.append(df)\n",
    "\n",
    "\n",
    "# 各データフレームを結合\n",
    "final_df = pd.concat(data_frames, axis=1)\n",
    "\n"
   ]
  },
  {
   "cell_type": "markdown",
   "id": "682061a3-5c69-4242-a01c-1133fda0fad6",
   "metadata": {},
   "source": [
    "### 本題"
   ]
  },
  {
   "cell_type": "code",
   "execution_count": 38,
   "id": "1b3e8b81-d72e-4a3e-a5d4-e50eeb9ff1df",
   "metadata": {},
   "outputs": [],
   "source": [
    "column_count = {\n",
    "    'A':{\n",
    "        'a':50,\n",
    "        'b':60\n",
    "    },\n",
    "    'B':{\n",
    "        'a':65,\n",
    "        'b':45\n",
    "    }\n",
    "}\n",
    "\n",
    "data_frames = []\n",
    "\n",
    "for column, categories in column_count.items():\n",
    "    data=[]\n",
    "    for category, count in categories.items():\n",
    "        data.extend([category] * count)\n",
    "    \n",
    "    np.random.shuffle(data)\n",
    "    df = pd.DataFrame(data, columns=[column])\n",
    "    data_frames.append(df)\n",
    "\n",
    "final_df = pd.concat(data_frames, axis=1)"
   ]
  },
  {
   "cell_type": "markdown",
   "id": "7f07aaf1-caea-4be6-8b7e-55025085db3c",
   "metadata": {},
   "source": [
    "最初の計算の通りの答えが返っている"
   ]
  },
  {
   "cell_type": "code",
   "execution_count": 37,
   "id": "e65dcc4a-acbc-4edc-84b4-62fba593cc29",
   "metadata": {},
   "outputs": [
    {
     "data": {
      "text/plain": [
       "(3.0098005698005683,\n",
       " 0.08276247307940354,\n",
       " 1,\n",
       " array([[29.54545455, 20.45454545],\n",
       "        [35.45454545, 24.54545455]]))"
      ]
     },
     "execution_count": 37,
     "metadata": {},
     "output_type": "execute_result"
    }
   ],
   "source": [
    "# 分割表を作成して、χ^2を計算する\n",
    "cont_table = pd.crosstab(final_df['A'], final_df['B'])\n",
    "stats.chi2_contingency(cont_table, correction=False)"
   ]
  },
  {
   "cell_type": "code",
   "execution_count": 39,
   "id": "bc8cd504-1850-459f-bd2c-da4ccb695c5f",
   "metadata": {},
   "outputs": [],
   "source": [
    "df_ship = sns.load_dataset('titanic')"
   ]
  },
  {
   "cell_type": "code",
   "execution_count": 40,
   "id": "801a9eaf-d888-4087-8dc2-976b1091ae6e",
   "metadata": {},
   "outputs": [
    {
     "data": {
      "text/html": [
       "<div>\n",
       "<style scoped>\n",
       "    .dataframe tbody tr th:only-of-type {\n",
       "        vertical-align: middle;\n",
       "    }\n",
       "\n",
       "    .dataframe tbody tr th {\n",
       "        vertical-align: top;\n",
       "    }\n",
       "\n",
       "    .dataframe thead th {\n",
       "        text-align: right;\n",
       "    }\n",
       "</style>\n",
       "<table border=\"1\" class=\"dataframe\">\n",
       "  <thead>\n",
       "    <tr style=\"text-align: right;\">\n",
       "      <th></th>\n",
       "      <th>survived</th>\n",
       "      <th>pclass</th>\n",
       "      <th>sex</th>\n",
       "      <th>age</th>\n",
       "      <th>sibsp</th>\n",
       "      <th>parch</th>\n",
       "      <th>fare</th>\n",
       "      <th>embarked</th>\n",
       "      <th>class</th>\n",
       "      <th>who</th>\n",
       "      <th>adult_male</th>\n",
       "      <th>deck</th>\n",
       "      <th>embark_town</th>\n",
       "      <th>alive</th>\n",
       "      <th>alone</th>\n",
       "    </tr>\n",
       "  </thead>\n",
       "  <tbody>\n",
       "    <tr>\n",
       "      <th>0</th>\n",
       "      <td>0</td>\n",
       "      <td>3</td>\n",
       "      <td>male</td>\n",
       "      <td>22.0</td>\n",
       "      <td>1</td>\n",
       "      <td>0</td>\n",
       "      <td>7.2500</td>\n",
       "      <td>S</td>\n",
       "      <td>Third</td>\n",
       "      <td>man</td>\n",
       "      <td>True</td>\n",
       "      <td>NaN</td>\n",
       "      <td>Southampton</td>\n",
       "      <td>no</td>\n",
       "      <td>False</td>\n",
       "    </tr>\n",
       "    <tr>\n",
       "      <th>1</th>\n",
       "      <td>1</td>\n",
       "      <td>1</td>\n",
       "      <td>female</td>\n",
       "      <td>38.0</td>\n",
       "      <td>1</td>\n",
       "      <td>0</td>\n",
       "      <td>71.2833</td>\n",
       "      <td>C</td>\n",
       "      <td>First</td>\n",
       "      <td>woman</td>\n",
       "      <td>False</td>\n",
       "      <td>C</td>\n",
       "      <td>Cherbourg</td>\n",
       "      <td>yes</td>\n",
       "      <td>False</td>\n",
       "    </tr>\n",
       "    <tr>\n",
       "      <th>2</th>\n",
       "      <td>1</td>\n",
       "      <td>3</td>\n",
       "      <td>female</td>\n",
       "      <td>26.0</td>\n",
       "      <td>0</td>\n",
       "      <td>0</td>\n",
       "      <td>7.9250</td>\n",
       "      <td>S</td>\n",
       "      <td>Third</td>\n",
       "      <td>woman</td>\n",
       "      <td>False</td>\n",
       "      <td>NaN</td>\n",
       "      <td>Southampton</td>\n",
       "      <td>yes</td>\n",
       "      <td>True</td>\n",
       "    </tr>\n",
       "    <tr>\n",
       "      <th>3</th>\n",
       "      <td>1</td>\n",
       "      <td>1</td>\n",
       "      <td>female</td>\n",
       "      <td>35.0</td>\n",
       "      <td>1</td>\n",
       "      <td>0</td>\n",
       "      <td>53.1000</td>\n",
       "      <td>S</td>\n",
       "      <td>First</td>\n",
       "      <td>woman</td>\n",
       "      <td>False</td>\n",
       "      <td>C</td>\n",
       "      <td>Southampton</td>\n",
       "      <td>yes</td>\n",
       "      <td>False</td>\n",
       "    </tr>\n",
       "    <tr>\n",
       "      <th>4</th>\n",
       "      <td>0</td>\n",
       "      <td>3</td>\n",
       "      <td>male</td>\n",
       "      <td>35.0</td>\n",
       "      <td>0</td>\n",
       "      <td>0</td>\n",
       "      <td>8.0500</td>\n",
       "      <td>S</td>\n",
       "      <td>Third</td>\n",
       "      <td>man</td>\n",
       "      <td>True</td>\n",
       "      <td>NaN</td>\n",
       "      <td>Southampton</td>\n",
       "      <td>no</td>\n",
       "      <td>True</td>\n",
       "    </tr>\n",
       "    <tr>\n",
       "      <th>...</th>\n",
       "      <td>...</td>\n",
       "      <td>...</td>\n",
       "      <td>...</td>\n",
       "      <td>...</td>\n",
       "      <td>...</td>\n",
       "      <td>...</td>\n",
       "      <td>...</td>\n",
       "      <td>...</td>\n",
       "      <td>...</td>\n",
       "      <td>...</td>\n",
       "      <td>...</td>\n",
       "      <td>...</td>\n",
       "      <td>...</td>\n",
       "      <td>...</td>\n",
       "      <td>...</td>\n",
       "    </tr>\n",
       "    <tr>\n",
       "      <th>886</th>\n",
       "      <td>0</td>\n",
       "      <td>2</td>\n",
       "      <td>male</td>\n",
       "      <td>27.0</td>\n",
       "      <td>0</td>\n",
       "      <td>0</td>\n",
       "      <td>13.0000</td>\n",
       "      <td>S</td>\n",
       "      <td>Second</td>\n",
       "      <td>man</td>\n",
       "      <td>True</td>\n",
       "      <td>NaN</td>\n",
       "      <td>Southampton</td>\n",
       "      <td>no</td>\n",
       "      <td>True</td>\n",
       "    </tr>\n",
       "    <tr>\n",
       "      <th>887</th>\n",
       "      <td>1</td>\n",
       "      <td>1</td>\n",
       "      <td>female</td>\n",
       "      <td>19.0</td>\n",
       "      <td>0</td>\n",
       "      <td>0</td>\n",
       "      <td>30.0000</td>\n",
       "      <td>S</td>\n",
       "      <td>First</td>\n",
       "      <td>woman</td>\n",
       "      <td>False</td>\n",
       "      <td>B</td>\n",
       "      <td>Southampton</td>\n",
       "      <td>yes</td>\n",
       "      <td>True</td>\n",
       "    </tr>\n",
       "    <tr>\n",
       "      <th>888</th>\n",
       "      <td>0</td>\n",
       "      <td>3</td>\n",
       "      <td>female</td>\n",
       "      <td>NaN</td>\n",
       "      <td>1</td>\n",
       "      <td>2</td>\n",
       "      <td>23.4500</td>\n",
       "      <td>S</td>\n",
       "      <td>Third</td>\n",
       "      <td>woman</td>\n",
       "      <td>False</td>\n",
       "      <td>NaN</td>\n",
       "      <td>Southampton</td>\n",
       "      <td>no</td>\n",
       "      <td>False</td>\n",
       "    </tr>\n",
       "    <tr>\n",
       "      <th>889</th>\n",
       "      <td>1</td>\n",
       "      <td>1</td>\n",
       "      <td>male</td>\n",
       "      <td>26.0</td>\n",
       "      <td>0</td>\n",
       "      <td>0</td>\n",
       "      <td>30.0000</td>\n",
       "      <td>C</td>\n",
       "      <td>First</td>\n",
       "      <td>man</td>\n",
       "      <td>True</td>\n",
       "      <td>C</td>\n",
       "      <td>Cherbourg</td>\n",
       "      <td>yes</td>\n",
       "      <td>True</td>\n",
       "    </tr>\n",
       "    <tr>\n",
       "      <th>890</th>\n",
       "      <td>0</td>\n",
       "      <td>3</td>\n",
       "      <td>male</td>\n",
       "      <td>32.0</td>\n",
       "      <td>0</td>\n",
       "      <td>0</td>\n",
       "      <td>7.7500</td>\n",
       "      <td>Q</td>\n",
       "      <td>Third</td>\n",
       "      <td>man</td>\n",
       "      <td>True</td>\n",
       "      <td>NaN</td>\n",
       "      <td>Queenstown</td>\n",
       "      <td>no</td>\n",
       "      <td>True</td>\n",
       "    </tr>\n",
       "  </tbody>\n",
       "</table>\n",
       "<p>891 rows × 15 columns</p>\n",
       "</div>"
      ],
      "text/plain": [
       "     survived  pclass     sex   age  sibsp  parch     fare embarked   class  \\\n",
       "0           0       3    male  22.0      1      0   7.2500        S   Third   \n",
       "1           1       1  female  38.0      1      0  71.2833        C   First   \n",
       "2           1       3  female  26.0      0      0   7.9250        S   Third   \n",
       "3           1       1  female  35.0      1      0  53.1000        S   First   \n",
       "4           0       3    male  35.0      0      0   8.0500        S   Third   \n",
       "..        ...     ...     ...   ...    ...    ...      ...      ...     ...   \n",
       "886         0       2    male  27.0      0      0  13.0000        S  Second   \n",
       "887         1       1  female  19.0      0      0  30.0000        S   First   \n",
       "888         0       3  female   NaN      1      2  23.4500        S   Third   \n",
       "889         1       1    male  26.0      0      0  30.0000        C   First   \n",
       "890         0       3    male  32.0      0      0   7.7500        Q   Third   \n",
       "\n",
       "       who  adult_male deck  embark_town alive  alone  \n",
       "0      man        True  NaN  Southampton    no  False  \n",
       "1    woman       False    C    Cherbourg   yes  False  \n",
       "2    woman       False  NaN  Southampton   yes   True  \n",
       "3    woman       False    C  Southampton   yes  False  \n",
       "4      man        True  NaN  Southampton    no   True  \n",
       "..     ...         ...  ...          ...   ...    ...  \n",
       "886    man        True  NaN  Southampton    no   True  \n",
       "887  woman       False    B  Southampton   yes   True  \n",
       "888  woman       False  NaN  Southampton    no  False  \n",
       "889    man        True    C    Cherbourg   yes   True  \n",
       "890    man        True  NaN   Queenstown    no   True  \n",
       "\n",
       "[891 rows x 15 columns]"
      ]
     },
     "execution_count": 40,
     "metadata": {},
     "output_type": "execute_result"
    }
   ],
   "source": [
    "df_ship"
   ]
  },
  {
   "cell_type": "code",
   "execution_count": 42,
   "id": "107b67c3-5899-4416-8e45-586d6448cf56",
   "metadata": {},
   "outputs": [
    {
     "data": {
      "text/plain": [
       "(891.0,\n",
       " 8.878170027530531e-196,\n",
       " 1,\n",
       " array([[338.27272727, 210.72727273],\n",
       "        [210.72727273, 131.27272727]]))"
      ]
     },
     "execution_count": 42,
     "metadata": {},
     "output_type": "execute_result"
    }
   ],
   "source": [
    "stats.chi2_contingency(pd.crosstab(df_ship['survived'], df_ship['alive']), correction=False)"
   ]
  },
  {
   "cell_type": "code",
   "execution_count": null,
   "id": "8a9b1cdf-077d-4ce5-8169-7810bfb26a5a",
   "metadata": {},
   "outputs": [],
   "source": []
  }
 ],
 "metadata": {
  "kernelspec": {
   "display_name": "Python 3 (ipykernel)",
   "language": "python",
   "name": "python3"
  },
  "language_info": {
   "codemirror_mode": {
    "name": "ipython",
    "version": 3
   },
   "file_extension": ".py",
   "mimetype": "text/x-python",
   "name": "python",
   "nbconvert_exporter": "python",
   "pygments_lexer": "ipython3",
   "version": "3.9.12"
  }
 },
 "nbformat": 4,
 "nbformat_minor": 5
}
